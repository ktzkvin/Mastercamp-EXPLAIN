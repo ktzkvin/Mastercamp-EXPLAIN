{
 "cells": [
  {
   "metadata": {
    "ExecuteTime": {
     "end_time": "2024-06-20T07:16:40.300571Z",
     "start_time": "2024-06-20T07:16:40.086261Z"
    }
   },
   "cell_type": "code",
   "source": "%reset -f",
   "id": "9895ff202aa6a2d5",
   "outputs": [],
   "execution_count": 1
  },
  {
   "metadata": {},
   "cell_type": "markdown",
   "source": "",
   "id": "ff7fe36b09a31fbe"
  },
  {
   "metadata": {
    "ExecuteTime": {
     "end_time": "2024-06-20T07:16:41.236559Z",
     "start_time": "2024-06-20T07:16:40.303302Z"
    }
   },
   "cell_type": "code",
   "source": [
    "from sklearn import *\n",
    "import numpy as np\n",
    "import matplotlib.pyplot as plt\n",
    "import pandas as pd\n",
    "import seaborn as sns\n",
    "import regex as re"
   ],
   "id": "7877b5192a0dd7e",
   "outputs": [],
   "execution_count": 2
  },
  {
   "metadata": {},
   "cell_type": "markdown",
   "source": "",
   "id": "2bfc33f42179b277"
  },
  {
   "metadata": {
    "ExecuteTime": {
     "end_time": "2024-06-20T07:18:00.531719Z",
     "start_time": "2024-06-20T07:17:12.090271Z"
    }
   },
   "cell_type": "code",
   "source": [
    "df = pd.read_csv('EFREI - LIPSTIP - 50k elements EPO.csv', chunksize=10000)\n",
    "\n",
    "df_list = []\n",
    "for chunk in df:\n",
    "    df_list.append(chunk)\n",
    "\n",
    "df = pd.concat(df_list)\n",
    "df.head(3)\n"
   ],
   "id": "a41f692bc8316e90",
   "outputs": [
    {
     "data": {
      "text/plain": [
       "   Numéro d'application Date d'application  Numero de publication  \\\n",
       "0              17167919         2017-04-25                3264223   \n",
       "1              17166775         2017-04-18                3235458   \n",
       "2              17166069         2017-04-11                3249094   \n",
       "\n",
       "  date de publication                                                CPC  \\\n",
       "0          2018-01-03  ['B23K26-361', 'H04M1-0266', 'B23K26-402', 'G0...   \n",
       "1          2017-10-25  ['A61B17-68', 'A61B17-888', 'A61B17-8685', 'A6...   \n",
       "2          2017-11-29                        ['D06F58-206', 'D06F58-20']   \n",
       "\n",
       "                                                 IPC  \\\n",
       "0  ['C08J7-04', 'H04M1-02', 'G06F1-16', 'B23K26-3...   \n",
       "1            ['A61B17-88', 'A61B17-68', 'A61B17-86']   \n",
       "2                         ['D06F58-20', 'D06F58-02']   \n",
       "\n",
       "                                               claim  \\\n",
       "0  <!-- EPO <DP n=\"18\"> --><claim id=\"c-en-0001\" ...   \n",
       "1  <!-- EPO <DP n=\"20\"> --><claim id=\"c-en-0001\" ...   \n",
       "2  <!-- EPO <DP n=\"22\"> --><claim id=\"c-en-0001\" ...   \n",
       "\n",
       "                                         description  \n",
       "0  <!-- EPO <DP n=\"1\"> --><p id=\"p0001\" num=\"0001...  \n",
       "1  <!-- EPO <DP n=\"1\"> --><heading id=\"h0001\">FIE...  \n",
       "2  <!-- EPO <DP n=\"1\"> --><heading id=\"h0001\"><b>...  "
      ],
      "text/html": [
       "<div>\n",
       "<style scoped>\n",
       "    .dataframe tbody tr th:only-of-type {\n",
       "        vertical-align: middle;\n",
       "    }\n",
       "\n",
       "    .dataframe tbody tr th {\n",
       "        vertical-align: top;\n",
       "    }\n",
       "\n",
       "    .dataframe thead th {\n",
       "        text-align: right;\n",
       "    }\n",
       "</style>\n",
       "<table border=\"1\" class=\"dataframe\">\n",
       "  <thead>\n",
       "    <tr style=\"text-align: right;\">\n",
       "      <th></th>\n",
       "      <th>Numéro d'application</th>\n",
       "      <th>Date d'application</th>\n",
       "      <th>Numero de publication</th>\n",
       "      <th>date de publication</th>\n",
       "      <th>CPC</th>\n",
       "      <th>IPC</th>\n",
       "      <th>claim</th>\n",
       "      <th>description</th>\n",
       "    </tr>\n",
       "  </thead>\n",
       "  <tbody>\n",
       "    <tr>\n",
       "      <th>0</th>\n",
       "      <td>17167919</td>\n",
       "      <td>2017-04-25</td>\n",
       "      <td>3264223</td>\n",
       "      <td>2018-01-03</td>\n",
       "      <td>['B23K26-361', 'H04M1-0266', 'B23K26-402', 'G0...</td>\n",
       "      <td>['C08J7-04', 'H04M1-02', 'G06F1-16', 'B23K26-3...</td>\n",
       "      <td>&lt;!-- EPO &lt;DP n=\"18\"&gt; --&gt;&lt;claim id=\"c-en-0001\" ...</td>\n",
       "      <td>&lt;!-- EPO &lt;DP n=\"1\"&gt; --&gt;&lt;p id=\"p0001\" num=\"0001...</td>\n",
       "    </tr>\n",
       "    <tr>\n",
       "      <th>1</th>\n",
       "      <td>17166775</td>\n",
       "      <td>2017-04-18</td>\n",
       "      <td>3235458</td>\n",
       "      <td>2017-10-25</td>\n",
       "      <td>['A61B17-68', 'A61B17-888', 'A61B17-8685', 'A6...</td>\n",
       "      <td>['A61B17-88', 'A61B17-68', 'A61B17-86']</td>\n",
       "      <td>&lt;!-- EPO &lt;DP n=\"20\"&gt; --&gt;&lt;claim id=\"c-en-0001\" ...</td>\n",
       "      <td>&lt;!-- EPO &lt;DP n=\"1\"&gt; --&gt;&lt;heading id=\"h0001\"&gt;FIE...</td>\n",
       "    </tr>\n",
       "    <tr>\n",
       "      <th>2</th>\n",
       "      <td>17166069</td>\n",
       "      <td>2017-04-11</td>\n",
       "      <td>3249094</td>\n",
       "      <td>2017-11-29</td>\n",
       "      <td>['D06F58-206', 'D06F58-20']</td>\n",
       "      <td>['D06F58-20', 'D06F58-02']</td>\n",
       "      <td>&lt;!-- EPO &lt;DP n=\"22\"&gt; --&gt;&lt;claim id=\"c-en-0001\" ...</td>\n",
       "      <td>&lt;!-- EPO &lt;DP n=\"1\"&gt; --&gt;&lt;heading id=\"h0001\"&gt;&lt;b&gt;...</td>\n",
       "    </tr>\n",
       "  </tbody>\n",
       "</table>\n",
       "</div>"
      ]
     },
     "execution_count": 3,
     "metadata": {},
     "output_type": "execute_result"
    }
   ],
   "execution_count": 3
  },
  {
   "metadata": {
    "ExecuteTime": {
     "end_time": "2024-06-20T07:20:38.655267Z",
     "start_time": "2024-06-20T07:20:38.645870Z"
    }
   },
   "cell_type": "code",
   "source": [
    "# vérifier s'il y a des doublons dans les numéros d'application\n",
    "df['Numéro d\\'application'].duplicated().sum()\n",
    "\n",
    "# vérifier s'il y a des doublons dans les numero de publication\n",
    "df['Numero de publication'].duplicated().sum()"
   ],
   "id": "7cdd0d3d0a1e636e",
   "outputs": [
    {
     "data": {
      "text/plain": [
       "0"
      ]
     },
     "execution_count": 4,
     "metadata": {},
     "output_type": "execute_result"
    }
   ],
   "execution_count": 4
  },
  {
   "metadata": {},
   "cell_type": "markdown",
   "source": "## Nettoyage des données",
   "id": "3f2cd41f626f2c76"
  },
  {
   "metadata": {
    "ExecuteTime": {
     "end_time": "2024-06-20T07:20:43.607837Z",
     "start_time": "2024-06-20T07:20:43.582318Z"
    }
   },
   "cell_type": "code",
   "source": [
    "df_2 = df.drop(columns=['Date d\\'application', 'Numero de publication', 'date de publication', 'IPC'])\n",
    "df_2.head(3)\n"
   ],
   "id": "ef9f38778077d9c",
   "outputs": [
    {
     "data": {
      "text/plain": [
       "   Numéro d'application                                                CPC  \\\n",
       "0              17167919  ['B23K26-361', 'H04M1-0266', 'B23K26-402', 'G0...   \n",
       "1              17166775  ['A61B17-68', 'A61B17-888', 'A61B17-8685', 'A6...   \n",
       "2              17166069                        ['D06F58-206', 'D06F58-20']   \n",
       "\n",
       "                                               claim  \\\n",
       "0  <!-- EPO <DP n=\"18\"> --><claim id=\"c-en-0001\" ...   \n",
       "1  <!-- EPO <DP n=\"20\"> --><claim id=\"c-en-0001\" ...   \n",
       "2  <!-- EPO <DP n=\"22\"> --><claim id=\"c-en-0001\" ...   \n",
       "\n",
       "                                         description  \n",
       "0  <!-- EPO <DP n=\"1\"> --><p id=\"p0001\" num=\"0001...  \n",
       "1  <!-- EPO <DP n=\"1\"> --><heading id=\"h0001\">FIE...  \n",
       "2  <!-- EPO <DP n=\"1\"> --><heading id=\"h0001\"><b>...  "
      ],
      "text/html": [
       "<div>\n",
       "<style scoped>\n",
       "    .dataframe tbody tr th:only-of-type {\n",
       "        vertical-align: middle;\n",
       "    }\n",
       "\n",
       "    .dataframe tbody tr th {\n",
       "        vertical-align: top;\n",
       "    }\n",
       "\n",
       "    .dataframe thead th {\n",
       "        text-align: right;\n",
       "    }\n",
       "</style>\n",
       "<table border=\"1\" class=\"dataframe\">\n",
       "  <thead>\n",
       "    <tr style=\"text-align: right;\">\n",
       "      <th></th>\n",
       "      <th>Numéro d'application</th>\n",
       "      <th>CPC</th>\n",
       "      <th>claim</th>\n",
       "      <th>description</th>\n",
       "    </tr>\n",
       "  </thead>\n",
       "  <tbody>\n",
       "    <tr>\n",
       "      <th>0</th>\n",
       "      <td>17167919</td>\n",
       "      <td>['B23K26-361', 'H04M1-0266', 'B23K26-402', 'G0...</td>\n",
       "      <td>&lt;!-- EPO &lt;DP n=\"18\"&gt; --&gt;&lt;claim id=\"c-en-0001\" ...</td>\n",
       "      <td>&lt;!-- EPO &lt;DP n=\"1\"&gt; --&gt;&lt;p id=\"p0001\" num=\"0001...</td>\n",
       "    </tr>\n",
       "    <tr>\n",
       "      <th>1</th>\n",
       "      <td>17166775</td>\n",
       "      <td>['A61B17-68', 'A61B17-888', 'A61B17-8685', 'A6...</td>\n",
       "      <td>&lt;!-- EPO &lt;DP n=\"20\"&gt; --&gt;&lt;claim id=\"c-en-0001\" ...</td>\n",
       "      <td>&lt;!-- EPO &lt;DP n=\"1\"&gt; --&gt;&lt;heading id=\"h0001\"&gt;FIE...</td>\n",
       "    </tr>\n",
       "    <tr>\n",
       "      <th>2</th>\n",
       "      <td>17166069</td>\n",
       "      <td>['D06F58-206', 'D06F58-20']</td>\n",
       "      <td>&lt;!-- EPO &lt;DP n=\"22\"&gt; --&gt;&lt;claim id=\"c-en-0001\" ...</td>\n",
       "      <td>&lt;!-- EPO &lt;DP n=\"1\"&gt; --&gt;&lt;heading id=\"h0001\"&gt;&lt;b&gt;...</td>\n",
       "    </tr>\n",
       "  </tbody>\n",
       "</table>\n",
       "</div>"
      ]
     },
     "execution_count": 5,
     "metadata": {},
     "output_type": "execute_result"
    }
   ],
   "execution_count": 5
  },
  {
   "metadata": {},
   "cell_type": "markdown",
   "source": "",
   "id": "252f914999ed79cb"
  },
  {
   "metadata": {
    "ExecuteTime": {
     "end_time": "2024-06-20T07:20:48.171475Z",
     "start_time": "2024-06-20T07:20:48.169285Z"
    }
   },
   "cell_type": "code",
   "source": "\n",
   "id": "6d1f7d0a59575639",
   "outputs": [],
   "execution_count": 5
  },
  {
   "metadata": {},
   "cell_type": "markdown",
   "source": "",
   "id": "e0624f03aaf5d4ad"
  },
  {
   "metadata": {
    "ExecuteTime": {
     "end_time": "2024-06-17T08:22:00.393077Z",
     "start_time": "2024-06-17T08:22:00.249463Z"
    }
   },
   "cell_type": "code",
   "source": [
    "import csv\n",
    "from myapp.models import Lipstick\n",
    "\n",
    "def load_csv_to_django_model(csv_file_path):\n",
    "    with open(csv_file_path, newline='', encoding='utf-8') as csvfile:\n",
    "        reader = csv.DictReader(csvfile)\n",
    "        \n",
    "        # Afficher les en-têtes pour vérifier\n",
    "        print(\"En-têtes du fichier CSV:\", reader.fieldnames)\n",
    "        \n",
    "        for row in reader:\n",
    "            try:\n",
    "                Lipstick.objects.create(\n",
    "                    brand=row['Numéro d\\'application'].strip(),\n",
    "                    color=row['Date d\\'application'].strip(),\n",
    "                    price=row['Numero de publication'].strip()\n",
    "                )\n",
    "            except KeyError as e:\n",
    "                print(f\"Clé manquante dans la ligne: {row} - Erreur: {e}\")\n",
    "\n",
    "csv_file_path = 'D:/PycharmProjects/MasterCamp/EXPLAIN/MastercampEXPLAIN/lipstip.csv'\n",
    "load_csv_to_django_model(csv_file_path)\n"
   ],
   "id": "51f5606c9f425bb3",
   "outputs": [
    {
     "name": "stdout",
     "output_type": "stream",
     "text": [
      "En-têtes du fichier CSV: [\"Numéro d'application\", \"Date d'application\", 'Numero de publication', 'date de publication', 'CPC', 'IPC', 'claim', 'description']\n"
     ]
    },
    {
     "ename": "SynchronousOnlyOperation",
     "evalue": "You cannot call this from an async context - use a thread or sync_to_async.",
     "output_type": "error",
     "traceback": [
      "\u001B[1;31m---------------------------------------------------------------------------\u001B[0m",
      "\u001B[1;31mSynchronousOnlyOperation\u001B[0m                  Traceback (most recent call last)",
      "Cell \u001B[1;32mIn[12], line 23\u001B[0m\n\u001B[0;32m     21\u001B[0m \u001B[38;5;66;03m# Assurez-vous que le chemin vers votre fichier CSV est correct\u001B[39;00m\n\u001B[0;32m     22\u001B[0m csv_file_path \u001B[38;5;241m=\u001B[39m \u001B[38;5;124m'\u001B[39m\u001B[38;5;124mD:/PycharmProjects/MasterCamp/EXPLAIN/MastercampEXPLAIN/lipstip.csv\u001B[39m\u001B[38;5;124m'\u001B[39m\n\u001B[1;32m---> 23\u001B[0m \u001B[43mload_csv_to_django_model\u001B[49m\u001B[43m(\u001B[49m\u001B[43mcsv_file_path\u001B[49m\u001B[43m)\u001B[49m\n",
      "Cell \u001B[1;32mIn[12], line 13\u001B[0m, in \u001B[0;36mload_csv_to_django_model\u001B[1;34m(csv_file_path)\u001B[0m\n\u001B[0;32m     11\u001B[0m \u001B[38;5;28;01mfor\u001B[39;00m row \u001B[38;5;129;01min\u001B[39;00m reader:\n\u001B[0;32m     12\u001B[0m     \u001B[38;5;28;01mtry\u001B[39;00m:\n\u001B[1;32m---> 13\u001B[0m         \u001B[43mLipstick\u001B[49m\u001B[38;5;241;43m.\u001B[39;49m\u001B[43mobjects\u001B[49m\u001B[38;5;241;43m.\u001B[39;49m\u001B[43mcreate\u001B[49m\u001B[43m(\u001B[49m\n\u001B[0;32m     14\u001B[0m \u001B[43m            \u001B[49m\u001B[43mbrand\u001B[49m\u001B[38;5;241;43m=\u001B[39;49m\u001B[43mrow\u001B[49m\u001B[43m[\u001B[49m\u001B[38;5;124;43m'\u001B[39;49m\u001B[38;5;124;43mNuméro d\u001B[39;49m\u001B[38;5;130;43;01m\\'\u001B[39;49;00m\u001B[38;5;124;43mapplication\u001B[39;49m\u001B[38;5;124;43m'\u001B[39;49m\u001B[43m]\u001B[49m\u001B[38;5;241;43m.\u001B[39;49m\u001B[43mstrip\u001B[49m\u001B[43m(\u001B[49m\u001B[43m)\u001B[49m\u001B[43m,\u001B[49m\n\u001B[0;32m     15\u001B[0m \u001B[43m            \u001B[49m\u001B[43mcolor\u001B[49m\u001B[38;5;241;43m=\u001B[39;49m\u001B[43mrow\u001B[49m\u001B[43m[\u001B[49m\u001B[38;5;124;43m'\u001B[39;49m\u001B[38;5;124;43mDate d\u001B[39;49m\u001B[38;5;130;43;01m\\'\u001B[39;49;00m\u001B[38;5;124;43mapplication\u001B[39;49m\u001B[38;5;124;43m'\u001B[39;49m\u001B[43m]\u001B[49m\u001B[38;5;241;43m.\u001B[39;49m\u001B[43mstrip\u001B[49m\u001B[43m(\u001B[49m\u001B[43m)\u001B[49m\u001B[43m,\u001B[49m\n\u001B[0;32m     16\u001B[0m \u001B[43m            \u001B[49m\u001B[43mprice\u001B[49m\u001B[38;5;241;43m=\u001B[39;49m\u001B[43mrow\u001B[49m\u001B[43m[\u001B[49m\u001B[38;5;124;43m'\u001B[39;49m\u001B[38;5;124;43mNumero de publication\u001B[39;49m\u001B[38;5;124;43m'\u001B[39;49m\u001B[43m]\u001B[49m\u001B[38;5;241;43m.\u001B[39;49m\u001B[43mstrip\u001B[49m\u001B[43m(\u001B[49m\u001B[43m)\u001B[49m\n\u001B[0;32m     17\u001B[0m \u001B[43m        \u001B[49m\u001B[43m)\u001B[49m\n\u001B[0;32m     18\u001B[0m     \u001B[38;5;28;01mexcept\u001B[39;00m \u001B[38;5;167;01mKeyError\u001B[39;00m \u001B[38;5;28;01mas\u001B[39;00m e:\n\u001B[0;32m     19\u001B[0m         \u001B[38;5;28mprint\u001B[39m(\u001B[38;5;124mf\u001B[39m\u001B[38;5;124m\"\u001B[39m\u001B[38;5;124mClé manquante dans la ligne: \u001B[39m\u001B[38;5;132;01m{\u001B[39;00mrow\u001B[38;5;132;01m}\u001B[39;00m\u001B[38;5;124m - Erreur: \u001B[39m\u001B[38;5;132;01m{\u001B[39;00me\u001B[38;5;132;01m}\u001B[39;00m\u001B[38;5;124m\"\u001B[39m)\n",
      "File \u001B[1;32mD:\\PycharmProjects\\MasterCamp\\MastercampTDProjet\\.venv\\Lib\\site-packages\\django\\db\\models\\manager.py:87\u001B[0m, in \u001B[0;36mBaseManager._get_queryset_methods.<locals>.create_method.<locals>.manager_method\u001B[1;34m(self, *args, **kwargs)\u001B[0m\n\u001B[0;32m     85\u001B[0m \u001B[38;5;129m@wraps\u001B[39m(method)\n\u001B[0;32m     86\u001B[0m \u001B[38;5;28;01mdef\u001B[39;00m \u001B[38;5;21mmanager_method\u001B[39m(\u001B[38;5;28mself\u001B[39m, \u001B[38;5;241m*\u001B[39margs, \u001B[38;5;241m*\u001B[39m\u001B[38;5;241m*\u001B[39mkwargs):\n\u001B[1;32m---> 87\u001B[0m     \u001B[38;5;28;01mreturn\u001B[39;00m \u001B[38;5;28;43mgetattr\u001B[39;49m\u001B[43m(\u001B[49m\u001B[38;5;28;43mself\u001B[39;49m\u001B[38;5;241;43m.\u001B[39;49m\u001B[43mget_queryset\u001B[49m\u001B[43m(\u001B[49m\u001B[43m)\u001B[49m\u001B[43m,\u001B[49m\u001B[43m \u001B[49m\u001B[43mname\u001B[49m\u001B[43m)\u001B[49m\u001B[43m(\u001B[49m\u001B[38;5;241;43m*\u001B[39;49m\u001B[43margs\u001B[49m\u001B[43m,\u001B[49m\u001B[43m \u001B[49m\u001B[38;5;241;43m*\u001B[39;49m\u001B[38;5;241;43m*\u001B[39;49m\u001B[43mkwargs\u001B[49m\u001B[43m)\u001B[49m\n",
      "File \u001B[1;32mD:\\PycharmProjects\\MasterCamp\\MastercampTDProjet\\.venv\\Lib\\site-packages\\django\\db\\models\\query.py:679\u001B[0m, in \u001B[0;36mQuerySet.create\u001B[1;34m(self, **kwargs)\u001B[0m\n\u001B[0;32m    677\u001B[0m obj \u001B[38;5;241m=\u001B[39m \u001B[38;5;28mself\u001B[39m\u001B[38;5;241m.\u001B[39mmodel(\u001B[38;5;241m*\u001B[39m\u001B[38;5;241m*\u001B[39mkwargs)\n\u001B[0;32m    678\u001B[0m \u001B[38;5;28mself\u001B[39m\u001B[38;5;241m.\u001B[39m_for_write \u001B[38;5;241m=\u001B[39m \u001B[38;5;28;01mTrue\u001B[39;00m\n\u001B[1;32m--> 679\u001B[0m \u001B[43mobj\u001B[49m\u001B[38;5;241;43m.\u001B[39;49m\u001B[43msave\u001B[49m\u001B[43m(\u001B[49m\u001B[43mforce_insert\u001B[49m\u001B[38;5;241;43m=\u001B[39;49m\u001B[38;5;28;43;01mTrue\u001B[39;49;00m\u001B[43m,\u001B[49m\u001B[43m \u001B[49m\u001B[43musing\u001B[49m\u001B[38;5;241;43m=\u001B[39;49m\u001B[38;5;28;43mself\u001B[39;49m\u001B[38;5;241;43m.\u001B[39;49m\u001B[43mdb\u001B[49m\u001B[43m)\u001B[49m\n\u001B[0;32m    680\u001B[0m \u001B[38;5;28;01mreturn\u001B[39;00m obj\n",
      "File \u001B[1;32mD:\\PycharmProjects\\MasterCamp\\MastercampTDProjet\\.venv\\Lib\\site-packages\\django\\db\\models\\base.py:822\u001B[0m, in \u001B[0;36mModel.save\u001B[1;34m(self, force_insert, force_update, using, update_fields)\u001B[0m\n\u001B[0;32m    819\u001B[0m     \u001B[38;5;28;01mif\u001B[39;00m loaded_fields:\n\u001B[0;32m    820\u001B[0m         update_fields \u001B[38;5;241m=\u001B[39m \u001B[38;5;28mfrozenset\u001B[39m(loaded_fields)\n\u001B[1;32m--> 822\u001B[0m \u001B[38;5;28;43mself\u001B[39;49m\u001B[38;5;241;43m.\u001B[39;49m\u001B[43msave_base\u001B[49m\u001B[43m(\u001B[49m\n\u001B[0;32m    823\u001B[0m \u001B[43m    \u001B[49m\u001B[43musing\u001B[49m\u001B[38;5;241;43m=\u001B[39;49m\u001B[43musing\u001B[49m\u001B[43m,\u001B[49m\n\u001B[0;32m    824\u001B[0m \u001B[43m    \u001B[49m\u001B[43mforce_insert\u001B[49m\u001B[38;5;241;43m=\u001B[39;49m\u001B[43mforce_insert\u001B[49m\u001B[43m,\u001B[49m\n\u001B[0;32m    825\u001B[0m \u001B[43m    \u001B[49m\u001B[43mforce_update\u001B[49m\u001B[38;5;241;43m=\u001B[39;49m\u001B[43mforce_update\u001B[49m\u001B[43m,\u001B[49m\n\u001B[0;32m    826\u001B[0m \u001B[43m    \u001B[49m\u001B[43mupdate_fields\u001B[49m\u001B[38;5;241;43m=\u001B[39;49m\u001B[43mupdate_fields\u001B[49m\u001B[43m,\u001B[49m\n\u001B[0;32m    827\u001B[0m \u001B[43m\u001B[49m\u001B[43m)\u001B[49m\n",
      "File \u001B[1;32mD:\\PycharmProjects\\MasterCamp\\MastercampTDProjet\\.venv\\Lib\\site-packages\\django\\db\\models\\base.py:909\u001B[0m, in \u001B[0;36mModel.save_base\u001B[1;34m(self, raw, force_insert, force_update, using, update_fields)\u001B[0m\n\u001B[0;32m    905\u001B[0m         force_insert \u001B[38;5;241m=\u001B[39m \u001B[38;5;28mself\u001B[39m\u001B[38;5;241m.\u001B[39m_validate_force_insert(force_insert)\n\u001B[0;32m    906\u001B[0m         parent_inserted \u001B[38;5;241m=\u001B[39m \u001B[38;5;28mself\u001B[39m\u001B[38;5;241m.\u001B[39m_save_parents(\n\u001B[0;32m    907\u001B[0m             \u001B[38;5;28mcls\u001B[39m, using, update_fields, force_insert\n\u001B[0;32m    908\u001B[0m         )\n\u001B[1;32m--> 909\u001B[0m     updated \u001B[38;5;241m=\u001B[39m \u001B[38;5;28;43mself\u001B[39;49m\u001B[38;5;241;43m.\u001B[39;49m\u001B[43m_save_table\u001B[49m\u001B[43m(\u001B[49m\n\u001B[0;32m    910\u001B[0m \u001B[43m        \u001B[49m\u001B[43mraw\u001B[49m\u001B[43m,\u001B[49m\n\u001B[0;32m    911\u001B[0m \u001B[43m        \u001B[49m\u001B[38;5;28;43mcls\u001B[39;49m\u001B[43m,\u001B[49m\n\u001B[0;32m    912\u001B[0m \u001B[43m        \u001B[49m\u001B[43mforce_insert\u001B[49m\u001B[43m \u001B[49m\u001B[38;5;129;43;01mor\u001B[39;49;00m\u001B[43m \u001B[49m\u001B[43mparent_inserted\u001B[49m\u001B[43m,\u001B[49m\n\u001B[0;32m    913\u001B[0m \u001B[43m        \u001B[49m\u001B[43mforce_update\u001B[49m\u001B[43m,\u001B[49m\n\u001B[0;32m    914\u001B[0m \u001B[43m        \u001B[49m\u001B[43musing\u001B[49m\u001B[43m,\u001B[49m\n\u001B[0;32m    915\u001B[0m \u001B[43m        \u001B[49m\u001B[43mupdate_fields\u001B[49m\u001B[43m,\u001B[49m\n\u001B[0;32m    916\u001B[0m \u001B[43m    \u001B[49m\u001B[43m)\u001B[49m\n\u001B[0;32m    917\u001B[0m \u001B[38;5;66;03m# Store the database on which the object was saved\u001B[39;00m\n\u001B[0;32m    918\u001B[0m \u001B[38;5;28mself\u001B[39m\u001B[38;5;241m.\u001B[39m_state\u001B[38;5;241m.\u001B[39mdb \u001B[38;5;241m=\u001B[39m using\n",
      "File \u001B[1;32mD:\\PycharmProjects\\MasterCamp\\MastercampTDProjet\\.venv\\Lib\\site-packages\\django\\db\\models\\base.py:1071\u001B[0m, in \u001B[0;36mModel._save_table\u001B[1;34m(self, raw, cls, force_insert, force_update, using, update_fields)\u001B[0m\n\u001B[0;32m   1065\u001B[0m fields \u001B[38;5;241m=\u001B[39m [\n\u001B[0;32m   1066\u001B[0m     f\n\u001B[0;32m   1067\u001B[0m     \u001B[38;5;28;01mfor\u001B[39;00m f \u001B[38;5;129;01min\u001B[39;00m meta\u001B[38;5;241m.\u001B[39mlocal_concrete_fields\n\u001B[0;32m   1068\u001B[0m     \u001B[38;5;28;01mif\u001B[39;00m \u001B[38;5;129;01mnot\u001B[39;00m f\u001B[38;5;241m.\u001B[39mgenerated \u001B[38;5;129;01mand\u001B[39;00m (pk_set \u001B[38;5;129;01mor\u001B[39;00m f \u001B[38;5;129;01mis\u001B[39;00m \u001B[38;5;129;01mnot\u001B[39;00m meta\u001B[38;5;241m.\u001B[39mauto_field)\n\u001B[0;32m   1069\u001B[0m ]\n\u001B[0;32m   1070\u001B[0m returning_fields \u001B[38;5;241m=\u001B[39m meta\u001B[38;5;241m.\u001B[39mdb_returning_fields\n\u001B[1;32m-> 1071\u001B[0m results \u001B[38;5;241m=\u001B[39m \u001B[38;5;28;43mself\u001B[39;49m\u001B[38;5;241;43m.\u001B[39;49m\u001B[43m_do_insert\u001B[49m\u001B[43m(\u001B[49m\n\u001B[0;32m   1072\u001B[0m \u001B[43m    \u001B[49m\u001B[38;5;28;43mcls\u001B[39;49m\u001B[38;5;241;43m.\u001B[39;49m\u001B[43m_base_manager\u001B[49m\u001B[43m,\u001B[49m\u001B[43m \u001B[49m\u001B[43musing\u001B[49m\u001B[43m,\u001B[49m\u001B[43m \u001B[49m\u001B[43mfields\u001B[49m\u001B[43m,\u001B[49m\u001B[43m \u001B[49m\u001B[43mreturning_fields\u001B[49m\u001B[43m,\u001B[49m\u001B[43m \u001B[49m\u001B[43mraw\u001B[49m\n\u001B[0;32m   1073\u001B[0m \u001B[43m\u001B[49m\u001B[43m)\u001B[49m\n\u001B[0;32m   1074\u001B[0m \u001B[38;5;28;01mif\u001B[39;00m results:\n\u001B[0;32m   1075\u001B[0m     \u001B[38;5;28;01mfor\u001B[39;00m value, field \u001B[38;5;129;01min\u001B[39;00m \u001B[38;5;28mzip\u001B[39m(results[\u001B[38;5;241m0\u001B[39m], returning_fields):\n",
      "File \u001B[1;32mD:\\PycharmProjects\\MasterCamp\\MastercampTDProjet\\.venv\\Lib\\site-packages\\django\\db\\models\\base.py:1112\u001B[0m, in \u001B[0;36mModel._do_insert\u001B[1;34m(self, manager, using, fields, returning_fields, raw)\u001B[0m\n\u001B[0;32m   1107\u001B[0m \u001B[38;5;28;01mdef\u001B[39;00m \u001B[38;5;21m_do_insert\u001B[39m(\u001B[38;5;28mself\u001B[39m, manager, using, fields, returning_fields, raw):\n\u001B[0;32m   1108\u001B[0m \u001B[38;5;250m    \u001B[39m\u001B[38;5;124;03m\"\"\"\u001B[39;00m\n\u001B[0;32m   1109\u001B[0m \u001B[38;5;124;03m    Do an INSERT. If returning_fields is defined then this method should\u001B[39;00m\n\u001B[0;32m   1110\u001B[0m \u001B[38;5;124;03m    return the newly created data for the model.\u001B[39;00m\n\u001B[0;32m   1111\u001B[0m \u001B[38;5;124;03m    \"\"\"\u001B[39;00m\n\u001B[1;32m-> 1112\u001B[0m     \u001B[38;5;28;01mreturn\u001B[39;00m \u001B[43mmanager\u001B[49m\u001B[38;5;241;43m.\u001B[39;49m\u001B[43m_insert\u001B[49m\u001B[43m(\u001B[49m\n\u001B[0;32m   1113\u001B[0m \u001B[43m        \u001B[49m\u001B[43m[\u001B[49m\u001B[38;5;28;43mself\u001B[39;49m\u001B[43m]\u001B[49m\u001B[43m,\u001B[49m\n\u001B[0;32m   1114\u001B[0m \u001B[43m        \u001B[49m\u001B[43mfields\u001B[49m\u001B[38;5;241;43m=\u001B[39;49m\u001B[43mfields\u001B[49m\u001B[43m,\u001B[49m\n\u001B[0;32m   1115\u001B[0m \u001B[43m        \u001B[49m\u001B[43mreturning_fields\u001B[49m\u001B[38;5;241;43m=\u001B[39;49m\u001B[43mreturning_fields\u001B[49m\u001B[43m,\u001B[49m\n\u001B[0;32m   1116\u001B[0m \u001B[43m        \u001B[49m\u001B[43musing\u001B[49m\u001B[38;5;241;43m=\u001B[39;49m\u001B[43musing\u001B[49m\u001B[43m,\u001B[49m\n\u001B[0;32m   1117\u001B[0m \u001B[43m        \u001B[49m\u001B[43mraw\u001B[49m\u001B[38;5;241;43m=\u001B[39;49m\u001B[43mraw\u001B[49m\u001B[43m,\u001B[49m\n\u001B[0;32m   1118\u001B[0m \u001B[43m    \u001B[49m\u001B[43m)\u001B[49m\n",
      "File \u001B[1;32mD:\\PycharmProjects\\MasterCamp\\MastercampTDProjet\\.venv\\Lib\\site-packages\\django\\db\\models\\manager.py:87\u001B[0m, in \u001B[0;36mBaseManager._get_queryset_methods.<locals>.create_method.<locals>.manager_method\u001B[1;34m(self, *args, **kwargs)\u001B[0m\n\u001B[0;32m     85\u001B[0m \u001B[38;5;129m@wraps\u001B[39m(method)\n\u001B[0;32m     86\u001B[0m \u001B[38;5;28;01mdef\u001B[39;00m \u001B[38;5;21mmanager_method\u001B[39m(\u001B[38;5;28mself\u001B[39m, \u001B[38;5;241m*\u001B[39margs, \u001B[38;5;241m*\u001B[39m\u001B[38;5;241m*\u001B[39mkwargs):\n\u001B[1;32m---> 87\u001B[0m     \u001B[38;5;28;01mreturn\u001B[39;00m \u001B[38;5;28;43mgetattr\u001B[39;49m\u001B[43m(\u001B[49m\u001B[38;5;28;43mself\u001B[39;49m\u001B[38;5;241;43m.\u001B[39;49m\u001B[43mget_queryset\u001B[49m\u001B[43m(\u001B[49m\u001B[43m)\u001B[49m\u001B[43m,\u001B[49m\u001B[43m \u001B[49m\u001B[43mname\u001B[49m\u001B[43m)\u001B[49m\u001B[43m(\u001B[49m\u001B[38;5;241;43m*\u001B[39;49m\u001B[43margs\u001B[49m\u001B[43m,\u001B[49m\u001B[43m \u001B[49m\u001B[38;5;241;43m*\u001B[39;49m\u001B[38;5;241;43m*\u001B[39;49m\u001B[43mkwargs\u001B[49m\u001B[43m)\u001B[49m\n",
      "File \u001B[1;32mD:\\PycharmProjects\\MasterCamp\\MastercampTDProjet\\.venv\\Lib\\site-packages\\django\\db\\models\\query.py:1847\u001B[0m, in \u001B[0;36mQuerySet._insert\u001B[1;34m(self, objs, fields, returning_fields, raw, using, on_conflict, update_fields, unique_fields)\u001B[0m\n\u001B[0;32m   1840\u001B[0m query \u001B[38;5;241m=\u001B[39m sql\u001B[38;5;241m.\u001B[39mInsertQuery(\n\u001B[0;32m   1841\u001B[0m     \u001B[38;5;28mself\u001B[39m\u001B[38;5;241m.\u001B[39mmodel,\n\u001B[0;32m   1842\u001B[0m     on_conflict\u001B[38;5;241m=\u001B[39mon_conflict,\n\u001B[0;32m   1843\u001B[0m     update_fields\u001B[38;5;241m=\u001B[39mupdate_fields,\n\u001B[0;32m   1844\u001B[0m     unique_fields\u001B[38;5;241m=\u001B[39munique_fields,\n\u001B[0;32m   1845\u001B[0m )\n\u001B[0;32m   1846\u001B[0m query\u001B[38;5;241m.\u001B[39minsert_values(fields, objs, raw\u001B[38;5;241m=\u001B[39mraw)\n\u001B[1;32m-> 1847\u001B[0m \u001B[38;5;28;01mreturn\u001B[39;00m \u001B[43mquery\u001B[49m\u001B[38;5;241;43m.\u001B[39;49m\u001B[43mget_compiler\u001B[49m\u001B[43m(\u001B[49m\u001B[43musing\u001B[49m\u001B[38;5;241;43m=\u001B[39;49m\u001B[43musing\u001B[49m\u001B[43m)\u001B[49m\u001B[38;5;241;43m.\u001B[39;49m\u001B[43mexecute_sql\u001B[49m\u001B[43m(\u001B[49m\u001B[43mreturning_fields\u001B[49m\u001B[43m)\u001B[49m\n",
      "File \u001B[1;32mD:\\PycharmProjects\\MasterCamp\\MastercampTDProjet\\.venv\\Lib\\site-packages\\django\\db\\models\\sql\\compiler.py:1821\u001B[0m, in \u001B[0;36mSQLInsertCompiler.execute_sql\u001B[1;34m(self, returning_fields)\u001B[0m\n\u001B[0;32m   1819\u001B[0m \u001B[38;5;28mself\u001B[39m\u001B[38;5;241m.\u001B[39mreturning_fields \u001B[38;5;241m=\u001B[39m returning_fields\n\u001B[0;32m   1820\u001B[0m cols \u001B[38;5;241m=\u001B[39m []\n\u001B[1;32m-> 1821\u001B[0m \u001B[38;5;28;01mwith\u001B[39;00m \u001B[38;5;28;43mself\u001B[39;49m\u001B[38;5;241;43m.\u001B[39;49m\u001B[43mconnection\u001B[49m\u001B[38;5;241;43m.\u001B[39;49m\u001B[43mcursor\u001B[49m\u001B[43m(\u001B[49m\u001B[43m)\u001B[49m \u001B[38;5;28;01mas\u001B[39;00m cursor:\n\u001B[0;32m   1822\u001B[0m     \u001B[38;5;28;01mfor\u001B[39;00m sql, params \u001B[38;5;129;01min\u001B[39;00m \u001B[38;5;28mself\u001B[39m\u001B[38;5;241m.\u001B[39mas_sql():\n\u001B[0;32m   1823\u001B[0m         cursor\u001B[38;5;241m.\u001B[39mexecute(sql, params)\n",
      "File \u001B[1;32mD:\\PycharmProjects\\MasterCamp\\MastercampTDProjet\\.venv\\Lib\\site-packages\\django\\utils\\asyncio.py:24\u001B[0m, in \u001B[0;36masync_unsafe.<locals>.decorator.<locals>.inner\u001B[1;34m(*args, **kwargs)\u001B[0m\n\u001B[0;32m     22\u001B[0m \u001B[38;5;28;01melse\u001B[39;00m:\n\u001B[0;32m     23\u001B[0m     \u001B[38;5;28;01mif\u001B[39;00m \u001B[38;5;129;01mnot\u001B[39;00m os\u001B[38;5;241m.\u001B[39menviron\u001B[38;5;241m.\u001B[39mget(\u001B[38;5;124m\"\u001B[39m\u001B[38;5;124mDJANGO_ALLOW_ASYNC_UNSAFE\u001B[39m\u001B[38;5;124m\"\u001B[39m):\n\u001B[1;32m---> 24\u001B[0m         \u001B[38;5;28;01mraise\u001B[39;00m SynchronousOnlyOperation(message)\n\u001B[0;32m     25\u001B[0m \u001B[38;5;66;03m# Pass onward.\u001B[39;00m\n\u001B[0;32m     26\u001B[0m \u001B[38;5;28;01mreturn\u001B[39;00m func(\u001B[38;5;241m*\u001B[39margs, \u001B[38;5;241m*\u001B[39m\u001B[38;5;241m*\u001B[39mkwargs)\n",
      "\u001B[1;31mSynchronousOnlyOperation\u001B[0m: You cannot call this from an async context - use a thread or sync_to_async."
     ]
    }
   ],
   "execution_count": 12
  },
  {
   "metadata": {},
   "cell_type": "code",
   "outputs": [],
   "execution_count": null,
   "source": "",
   "id": "fde3b9118485c76d"
  }
 ],
 "metadata": {
  "kernelspec": {
   "display_name": "Python 3",
   "language": "python",
   "name": "python3"
  },
  "language_info": {
   "codemirror_mode": {
    "name": "ipython",
    "version": 2
   },
   "file_extension": ".py",
   "mimetype": "text/x-python",
   "name": "python",
   "nbconvert_exporter": "python",
   "pygments_lexer": "ipython2",
   "version": "2.7.6"
  }
 },
 "nbformat": 4,
 "nbformat_minor": 5
}
